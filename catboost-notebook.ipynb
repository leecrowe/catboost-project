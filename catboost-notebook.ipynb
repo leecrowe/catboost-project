{
  "nbformat": 4,
  "nbformat_minor": 0,
  "metadata": {
    "colab": {
      "name": "catboost-notebook.ipynb",
      "provenance": [],
      "collapsed_sections": []
    },
    "kernelspec": {
      "name": "python3",
      "display_name": "Python 3"
    },
    "accelerator": "GPU",
    "widgets": {
      "application/vnd.jupyter.widget-state+json": {
        "7289be1c8b2545ae84ff4e2fd84dbe08": {
          "model_module": "catboost-widget",
          "model_name": "CatboostWidgetModel",
          "model_module_version": "^1.0.0",
          "state": {
            "_view_name": "CatboostWidgetView",
            "_dom_classes": [],
            "_model_name": "CatboostWidgetModel",
            "data": {
              "catboost_info": {
                "content": {
                  "data": {
                    "meta": {
                      "name": "experiment",
                      "parameters": "",
                      "test_metrics": [
                        {
                          "best_value": "Max",
                          "name": "F1"
                        },
                        {
                          "best_value": "Min",
                          "name": "Logloss"
                        }
                      ],
                      "learn_sets": [
                        "learn"
                      ],
                      "launch_mode": "Train",
                      "learn_metrics": [
                        {
                          "best_value": "Max",
                          "name": "F1"
                        },
                        {
                          "best_value": "Min",
                          "name": "Logloss"
                        }
                      ],
                      "iteration_count": 100,
                      "test_sets": [
                        "test"
                      ]
                    },
                    "iterations": [
                      {
                        "test": [
                          0.8333333333,
                          0.6500879297
                        ],
                        "passed_time": 0.03916910126,
                        "iteration": 0,
                        "remaining_time": 3.877741025,
                        "learn": [
                          0.8524046434,
                          0.6437945215
                        ]
                      },
                      {
                        "test": [
                          0.8327645051,
                          0.6194583536
                        ],
                        "passed_time": 0.08640930597,
                        "iteration": 1,
                        "remaining_time": 4.234055992,
                        "learn": [
                          0.8557844691,
                          0.6096910166
                        ]
                      },
                      {
                        "test": [
                          0.8510638298,
                          0.5954895771
                        ],
                        "passed_time": 0.1226506105,
                        "iteration": 2,
                        "remaining_time": 3.965703074,
                        "learn": [
                          0.8446601942,
                          0.5815282297
                        ]
                      },
                      {
                        "test": [
                          0.8439716312,
                          0.5781345837
                        ],
                        "passed_time": 0.1501487753,
                        "iteration": 3,
                        "remaining_time": 3.603570607,
                        "learn": [
                          0.8502415459,
                          0.5619239157
                        ]
                      },
                      {
                        "test": [
                          0.8231292517,
                          0.5756546171
                        ],
                        "passed_time": 0.1657837567,
                        "iteration": 4,
                        "remaining_time": 3.149891378,
                        "learn": [
                          0.8639240506,
                          0.5481133751
                        ]
                      },
                      {
                        "test": [
                          0.824742268,
                          0.5653461776
                        ],
                        "passed_time": 0.1744616479,
                        "iteration": 5,
                        "remaining_time": 2.733232483,
                        "learn": [
                          0.8630573248,
                          0.5323122493
                        ]
                      },
                      {
                        "test": [
                          0.8362369338,
                          0.5553711388
                        ],
                        "passed_time": 0.1879412108,
                        "iteration": 6,
                        "remaining_time": 2.496933229,
                        "learn": [
                          0.8648648649,
                          0.520965539
                        ]
                      },
                      {
                        "test": [
                          0.8203389831,
                          0.5559739738
                        ],
                        "passed_time": 0.2098922649,
                        "iteration": 7,
                        "remaining_time": 2.413761046,
                        "learn": [
                          0.8639240506,
                          0.5150280881
                        ]
                      },
                      {
                        "test": [
                          0.8227424749,
                          0.5553280309
                        ],
                        "passed_time": 0.2180804352,
                        "iteration": 8,
                        "remaining_time": 2.205035511,
                        "learn": [
                          0.8669796557,
                          0.5095670009
                        ]
                      },
                      {
                        "test": [
                          0.8231292517,
                          0.5480590971
                        ],
                        "passed_time": 0.2232756131,
                        "iteration": 9,
                        "remaining_time": 2.009480518,
                        "learn": [
                          0.8603174603,
                          0.5043044636
                        ]
                      },
                      {
                        "test": [
                          0.8215488215,
                          0.5478753527
                        ],
                        "passed_time": 0.2358729205,
                        "iteration": 10,
                        "remaining_time": 1.908426356,
                        "learn": [
                          0.8553459119,
                          0.5004521576
                        ]
                      },
                      {
                        "test": [
                          0.8203389831,
                          0.5460597447
                        ],
                        "passed_time": 0.2528885343,
                        "iteration": 11,
                        "remaining_time": 1.854515919,
                        "learn": [
                          0.858490566,
                          0.4944875304
                        ]
                      },
                      {
                        "test": [
                          0.824742268,
                          0.5436320939
                        ],
                        "passed_time": 0.2613612164,
                        "iteration": 12,
                        "remaining_time": 1.749109679,
                        "learn": [
                          0.8611987382,
                          0.4909218002
                        ]
                      },
                      {
                        "test": [
                          0.8275862069,
                          0.5415272454
                        ],
                        "passed_time": 0.2767544274,
                        "iteration": 13,
                        "remaining_time": 1.700062911,
                        "learn": [
                          0.8607594937,
                          0.4880501406
                        ]
                      },
                      {
                        "test": [
                          0.8275862069,
                          0.5405169332
                        ],
                        "passed_time": 0.3039860711,
                        "iteration": 14,
                        "remaining_time": 1.722587736,
                        "learn": [
                          0.8607594937,
                          0.4849734712
                        ]
                      },
                      {
                        "test": [
                          0.830449827,
                          0.5421547725
                        ],
                        "passed_time": 0.318893427,
                        "iteration": 15,
                        "remaining_time": 1.674190492,
                        "learn": [
                          0.8607594937,
                          0.4814474658
                        ]
                      },
                      {
                        "test": [
                          0.8275862069,
                          0.5420013578
                        ],
                        "passed_time": 0.329686282,
                        "iteration": 16,
                        "remaining_time": 1.609644788,
                        "learn": [
                          0.8607594937,
                          0.4776349219
                        ]
                      },
                      {
                        "test": [
                          0.8362369338,
                          0.5411668223
                        ],
                        "passed_time": 0.3423277106,
                        "iteration": 17,
                        "remaining_time": 1.559492904,
                        "learn": [
                          0.8634920635,
                          0.4753521922
                        ]
                      },
                      {
                        "test": [
                          0.8251748252,
                          0.5394773436
                        ],
                        "passed_time": 0.3511158409,
                        "iteration": 18,
                        "remaining_time": 1.496862269,
                        "learn": [
                          0.8634920635,
                          0.4716806528
                        ]
                      },
                      {
                        "test": [
                          0.8166089965,
                          0.5428385993
                        ],
                        "passed_time": 0.363619368,
                        "iteration": 19,
                        "remaining_time": 1.454477472,
                        "learn": [
                          0.8652931854,
                          0.4663751236
                        ]
                      },
                      {
                        "test": [
                          0.8166089965,
                          0.5436436695
                        ],
                        "passed_time": 0.3809938197,
                        "iteration": 20,
                        "remaining_time": 1.433262465,
                        "learn": [
                          0.8666666667,
                          0.4641798256
                        ]
                      },
                      {
                        "test": [
                          0.8166089965,
                          0.5411785859
                        ],
                        "passed_time": 0.3893925458,
                        "iteration": 21,
                        "remaining_time": 1.380573571,
                        "learn": [
                          0.8694267516,
                          0.4554295598
                        ]
                      },
                      {
                        "test": [
                          0.8194444444,
                          0.5407071043
                        ],
                        "passed_time": 0.4005027147,
                        "iteration": 22,
                        "remaining_time": 1.340813436,
                        "learn": [
                          0.8694267516,
                          0.451713692
                        ]
                      },
                      {
                        "test": [
                          0.8194444444,
                          0.5413275658
                        ],
                        "passed_time": 0.4125317842,
                        "iteration": 23,
                        "remaining_time": 1.30635065,
                        "learn": [
                          0.8708133971,
                          0.4481776625
                        ]
                      },
                      {
                        "test": [
                          0.8122866894,
                          0.5448742195
                        ],
                        "passed_time": 0.4205524947,
                        "iteration": 24,
                        "remaining_time": 1.261657484,
                        "learn": [
                          0.8698412698,
                          0.4446089993
                        ]
                      },
                      {
                        "test": [
                          0.8122866894,
                          0.5426032156
                        ],
                        "passed_time": 0.4706803389,
                        "iteration": 25,
                        "remaining_time": 1.339628657,
                        "learn": [
                          0.8662420382,
                          0.443311631
                        ]
                      },
                      {
                        "test": [
                          0.8096885813,
                          0.5428484085
                        ],
                        "passed_time": 0.5153193277,
                        "iteration": 26,
                        "remaining_time": 1.393270775,
                        "learn": [
                          0.8662420382,
                          0.4411687921
                        ]
                      },
                      {
                        "test": [
                          0.8137931034,
                          0.5427421232
                        ],
                        "passed_time": 0.5370964131,
                        "iteration": 27,
                        "remaining_time": 1.381105062,
                        "learn": [
                          0.8694267516,
                          0.4404858963
                        ]
                      },
                      {
                        "test": [
                          0.8153310105,
                          0.5414539206
                        ],
                        "passed_time": 0.5439842829,
                        "iteration": 28,
                        "remaining_time": 1.331823589,
                        "learn": [
                          0.8644338118,
                          0.439553588
                        ]
                      },
                      {
                        "test": [
                          0.8194444444,
                          0.5404503733
                        ],
                        "passed_time": 0.5526135256,
                        "iteration": 29,
                        "remaining_time": 1.28943156,
                        "learn": [
                          0.8626198083,
                          0.4375214217
                        ]
                      },
                      {
                        "test": [
                          0.8194444444,
                          0.5403747934
                        ],
                        "passed_time": 0.5615150312,
                        "iteration": 30,
                        "remaining_time": 1.249823779,
                        "learn": [
                          0.8658146965,
                          0.435179476
                        ]
                      },
                      {
                        "test": [
                          0.8222996516,
                          0.540570339
                        ],
                        "passed_time": 0.5684021201,
                        "iteration": 31,
                        "remaining_time": 1.207854505,
                        "learn": [
                          0.8658146965,
                          0.4324699458
                        ]
                      },
                      {
                        "test": [
                          0.8194444444,
                          0.543071728
                        ],
                        "passed_time": 0.5752453555,
                        "iteration": 32,
                        "remaining_time": 1.167922388,
                        "learn": [
                          0.864,
                          0.4291890091
                        ]
                      },
                      {
                        "test": [
                          0.8194444444,
                          0.5408900594
                        ],
                        "passed_time": 0.5823475094,
                        "iteration": 33,
                        "remaining_time": 1.130439283,
                        "learn": [
                          0.8658146965,
                          0.4246967251
                        ]
                      },
                      {
                        "test": [
                          0.8280701754,
                          0.5405943171
                        ],
                        "passed_time": 0.5892421077,
                        "iteration": 34,
                        "remaining_time": 1.094306772,
                        "learn": [
                          0.8658146965,
                          0.4219885313
                        ]
                      },
                      {
                        "test": [
                          0.8263888889,
                          0.5402614049
                        ],
                        "passed_time": 0.5968404562,
                        "iteration": 35,
                        "remaining_time": 1.0610497,
                        "learn": [
                          0.872611465,
                          0.4182295973
                        ]
                      },
                      {
                        "test": [
                          0.8222996516,
                          0.5395385667
                        ],
                        "passed_time": 0.6046555178,
                        "iteration": 36,
                        "remaining_time": 1.029548584,
                        "learn": [
                          0.872611465,
                          0.4165455616
                        ]
                      },
                      {
                        "test": [
                          0.8206896552,
                          0.5408206432
                        ],
                        "passed_time": 0.6121768802,
                        "iteration": 37,
                        "remaining_time": 0.9988149097,
                        "learn": [
                          0.872611465,
                          0.4145014037
                        ]
                      },
                      {
                        "test": [
                          0.8178694158,
                          0.5419527627
                        ],
                        "passed_time": 0.6193724387,
                        "iteration": 38,
                        "remaining_time": 0.9687620195,
                        "learn": [
                          0.8775834658,
                          0.4105205304
                        ]
                      },
                      {
                        "test": [
                          0.8206896552,
                          0.5422072011
                        ],
                        "passed_time": 0.6265723848,
                        "iteration": 39,
                        "remaining_time": 0.9398585772,
                        "learn": [
                          0.8761904762,
                          0.4083352193
                        ]
                      },
                      {
                        "test": [
                          0.8206896552,
                          0.539418789
                        ],
                        "passed_time": 0.6334339653,
                        "iteration": 40,
                        "remaining_time": 0.9115269256,
                        "learn": [
                          0.8775834658,
                          0.4042082923
                        ]
                      },
                      {
                        "test": [
                          0.8206896552,
                          0.5397862026
                        ],
                        "passed_time": 0.6408274756,
                        "iteration": 41,
                        "remaining_time": 0.8849522283,
                        "learn": [
                          0.8775834658,
                          0.4032081177
                        ]
                      },
                      {
                        "test": [
                          0.8235294118,
                          0.5403343915
                        ],
                        "passed_time": 0.6480863406,
                        "iteration": 42,
                        "remaining_time": 0.8590911957,
                        "learn": [
                          0.8775834658,
                          0.4020749577
                        ]
                      },
                      {
                        "test": [
                          0.8235294118,
                          0.5431583574
                        ],
                        "passed_time": 0.6715481271,
                        "iteration": 43,
                        "remaining_time": 0.8546976163,
                        "learn": [
                          0.8775834658,
                          0.3998124246
                        ]
                      },
                      {
                        "test": [
                          0.8206896552,
                          0.5427347944
                        ],
                        "passed_time": 0.678562288,
                        "iteration": 44,
                        "remaining_time": 0.8293539075,
                        "learn": [
                          0.881141046,
                          0.3977483299
                        ]
                      },
                      {
                        "test": [
                          0.8206896552,
                          0.5415329957
                        ],
                        "passed_time": 0.6934848993,
                        "iteration": 45,
                        "remaining_time": 0.8140909688,
                        "learn": [
                          0.8775834658,
                          0.3954244275
                        ]
                      },
                      {
                        "test": [
                          0.8206896552,
                          0.5421517283
                        ],
                        "passed_time": 0.7007576175,
                        "iteration": 46,
                        "remaining_time": 0.7902160367,
                        "learn": [
                          0.8761904762,
                          0.3935103219
                        ]
                      },
                      {
                        "test": [
                          0.8178694158,
                          0.5418542947
                        ],
                        "passed_time": 0.7117760666,
                        "iteration": 47,
                        "remaining_time": 0.7710907389,
                        "learn": [
                          0.8775834658,
                          0.3919382954
                        ]
                      },
                      {
                        "test": [
                          0.8178694158,
                          0.5431674149
                        ],
                        "passed_time": 0.7188078578,
                        "iteration": 48,
                        "remaining_time": 0.748146954,
                        "learn": [
                          0.8789808917,
                          0.3903017067
                        ]
                      },
                      {
                        "test": [
                          0.8178694158,
                          0.5443367042
                        ],
                        "passed_time": 0.7259539535,
                        "iteration": 49,
                        "remaining_time": 0.7259539535,
                        "learn": [
                          0.8839427663,
                          0.388833039
                        ]
                      },
                      {
                        "test": [
                          0.8109965636,
                          0.5460635406
                        ],
                        "passed_time": 0.7330037876,
                        "iteration": 50,
                        "remaining_time": 0.704258541,
                        "learn": [
                          0.8835725678,
                          0.3857924932
                        ]
                      },
                      {
                        "test": [
                          0.8109965636,
                          0.5481836479
                        ],
                        "passed_time": 0.7401485823,
                        "iteration": 51,
                        "remaining_time": 0.683214076,
                        "learn": [
                          0.8821656051,
                          0.3839801872
                        ]
                      },
                      {
                        "test": [
                          0.8122866894,
                          0.5494364471
                        ],
                        "passed_time": 0.7471019156,
                        "iteration": 52,
                        "remaining_time": 0.6625243402,
                        "learn": [
                          0.8857142857,
                          0.3801648217
                        ]
                      },
                      {
                        "test": [
                          0.8122866894,
                          0.5499910627
                        ],
                        "passed_time": 0.7681121357,
                        "iteration": 53,
                        "remaining_time": 0.6543177452,
                        "learn": [
                          0.8857142857,
                          0.3788299189
                        ]
                      },
                      {
                        "test": [
                          0.8122866894,
                          0.5498803425
                        ],
                        "passed_time": 0.7852204015,
                        "iteration": 54,
                        "remaining_time": 0.6424530558,
                        "learn": [
                          0.8888888889,
                          0.3767423235
                        ]
                      },
                      {
                        "test": [
                          0.8041237113,
                          0.5496245135
                        ],
                        "passed_time": 0.7990756477,
                        "iteration": 55,
                        "remaining_time": 0.6278451517,
                        "learn": [
                          0.8920634921,
                          0.3742317144
                        ]
                      },
                      {
                        "test": [
                          0.8041237113,
                          0.5501419594
                        ],
                        "passed_time": 0.8140850559,
                        "iteration": 56,
                        "remaining_time": 0.6141343404,
                        "learn": [
                          0.8924050633,
                          0.3735147369
                        ]
                      },
                      {
                        "test": [
                          0.8054607509,
                          0.5498438868
                        ],
                        "passed_time": 0.8334998894,
                        "iteration": 57,
                        "remaining_time": 0.6035688854,
                        "learn": [
                          0.8984126984,
                          0.3717439006
                        ]
                      },
                      {
                        "test": [
                          0.8122866894,
                          0.5497075724
                        ],
                        "passed_time": 0.8486614815,
                        "iteration": 58,
                        "remaining_time": 0.5897478092,
                        "learn": [
                          0.898089172,
                          0.3691392885
                        ]
                      },
                      {
                        "test": [
                          0.8122866894,
                          0.5500005337
                        ],
                        "passed_time": 0.8632380508,
                        "iteration": 59,
                        "remaining_time": 0.5754920339,
                        "learn": [
                          0.8963317384,
                          0.3672780875
                        ]
                      },
                      {
                        "test": [
                          0.8082191781,
                          0.5501262496
                        ],
                        "passed_time": 0.8824480078,
                        "iteration": 60,
                        "remaining_time": 0.5641880706,
                        "learn": [
                          0.898089172,
                          0.3658147659
                        ]
                      },
                      {
                        "test": [
                          0.8095238095,
                          0.548898819
                        ],
                        "passed_time": 0.89712035,
                        "iteration": 61,
                        "remaining_time": 0.5498479565,
                        "learn": [
                          0.8966613672,
                          0.363015205
                        ]
                      },
                      {
                        "test": [
                          0.8178694158,
                          0.5478700159
                        ],
                        "passed_time": 0.9147325646,
                        "iteration": 62,
                        "remaining_time": 0.5372238872,
                        "learn": [
                          0.8984126984,
                          0.3622646657
                        ]
                      },
                      {
                        "test": [
                          0.8095238095,
                          0.5510344106
                        ],
                        "passed_time": 0.9290048327,
                        "iteration": 63,
                        "remaining_time": 0.5225652184,
                        "learn": [
                          0.8998410175,
                          0.3596565636
                        ]
                      },
                      {
                        "test": [
                          0.8122866894,
                          0.5518812358
                        ],
                        "passed_time": 0.9430498521,
                        "iteration": 64,
                        "remaining_time": 0.5077960742,
                        "learn": [
                          0.9012738854,
                          0.3585036897
                        ]
                      },
                      {
                        "test": [
                          0.8178694158,
                          0.5517816403
                        ],
                        "passed_time": 0.9569590239,
                        "iteration": 65,
                        "remaining_time": 0.4929788911,
                        "learn": [
                          0.9030206677,
                          0.3573172539
                        ]
                      },
                      {
                        "test": [
                          0.819112628,
                          0.5525902809
                        ],
                        "passed_time": 0.9761945988,
                        "iteration": 66,
                        "remaining_time": 0.4808122651,
                        "learn": [
                          0.9050632911,
                          0.3552020368
                        ]
                      },
                      {
                        "test": [
                          0.819112628,
                          0.5540816208
                        ],
                        "passed_time": 0.990727095,
                        "iteration": 67,
                        "remaining_time": 0.4662245153,
                        "learn": [
                          0.9079365079,
                          0.354196516
                        ]
                      },
                      {
                        "test": [
                          0.8150684932,
                          0.5529884376
                        ],
                        "passed_time": 1.003859548,
                        "iteration": 68,
                        "remaining_time": 0.4510093622,
                        "learn": [
                          0.9093799682,
                          0.3532670293
                        ]
                      },
                      {
                        "test": [
                          0.8163265306,
                          0.5523403525
                        ],
                        "passed_time": 1.014877925,
                        "iteration": 69,
                        "remaining_time": 0.434947682,
                        "learn": [
                          0.9108280255,
                          0.3513058479
                        ]
                      },
                      {
                        "test": [
                          0.8163265306,
                          0.5529110537
                        ],
                        "passed_time": 1.029100472,
                        "iteration": 70,
                        "remaining_time": 0.4203368123,
                        "learn": [
                          0.9122807018,
                          0.3498901961
                        ]
                      },
                      {
                        "test": [
                          0.8109965636,
                          0.5533584444
                        ],
                        "passed_time": 1.044070939,
                        "iteration": 71,
                        "remaining_time": 0.4060275873,
                        "learn": [
                          0.9122807018,
                          0.3489524674
                        ]
                      },
                      {
                        "test": [
                          0.8082191781,
                          0.5546641984
                        ],
                        "passed_time": 1.059819661,
                        "iteration": 72,
                        "remaining_time": 0.3919880937,
                        "learn": [
                          0.9137380192,
                          0.3476991677
                        ]
                      },
                      {
                        "test": [
                          0.8122866894,
                          0.5547689804
                        ],
                        "passed_time": 1.075899148,
                        "iteration": 73,
                        "remaining_time": 0.3780186195,
                        "learn": [
                          0.9122807018,
                          0.346729325
                        ]
                      },
                      {
                        "test": [
                          0.8109965636,
                          0.5531985654
                        ],
                        "passed_time": 1.109428896,
                        "iteration": 74,
                        "remaining_time": 0.3698096319,
                        "learn": [
                          0.9122807018,
                          0.345325702
                        ]
                      },
                      {
                        "test": [
                          0.8178694158,
                          0.5526288037
                        ],
                        "passed_time": 1.123779652,
                        "iteration": 75,
                        "remaining_time": 0.354877785,
                        "learn": [
                          0.9108280255,
                          0.3441882354
                        ]
                      },
                      {
                        "test": [
                          0.8082191781,
                          0.5541824566
                        ],
                        "passed_time": 1.138249246,
                        "iteration": 76,
                        "remaining_time": 0.339996528,
                        "learn": [
                          0.9137380192,
                          0.3419909698
                        ]
                      },
                      {
                        "test": [
                          0.8041237113,
                          0.5549221697
                        ],
                        "passed_time": 1.152662704,
                        "iteration": 77,
                        "remaining_time": 0.3251099933,
                        "learn": [
                          0.9137380192,
                          0.3415071436
                        ]
                      },
                      {
                        "test": [
                          0.8082191781,
                          0.5546190985
                        ],
                        "passed_time": 1.167516531,
                        "iteration": 78,
                        "remaining_time": 0.3103524956,
                        "learn": [
                          0.9166666667,
                          0.3400071044
                        ]
                      },
                      {
                        "test": [
                          0.8068965517,
                          0.5541037949
                        ],
                        "passed_time": 1.185739014,
                        "iteration": 79,
                        "remaining_time": 0.2964347536,
                        "learn": [
                          0.9149277689,
                          0.338721505
                        ]
                      },
                      {
                        "test": [
                          0.8068965517,
                          0.5527173122
                        ],
                        "passed_time": 1.213150542,
                        "iteration": 80,
                        "remaining_time": 0.2845661765,
                        "learn": [
                          0.9149277689,
                          0.3375173601
                        ]
                      },
                      {
                        "test": [
                          0.8109965636,
                          0.5527968007
                        ],
                        "passed_time": 1.227170787,
                        "iteration": 81,
                        "remaining_time": 0.2693789532,
                        "learn": [
                          0.9134615385,
                          0.3368790155
                        ]
                      },
                      {
                        "test": [
                          0.8068965517,
                          0.552233804
                        ],
                        "passed_time": 1.252577479,
                        "iteration": 82,
                        "remaining_time": 0.2565520137,
                        "learn": [
                          0.9149277689,
                          0.3359137394
                        ]
                      },
                      {
                        "test": [
                          0.8068965517,
                          0.552739336
                        ],
                        "passed_time": 1.264893871,
                        "iteration": 83,
                        "remaining_time": 0.240932166,
                        "learn": [
                          0.9149277689,
                          0.3352323286
                        ]
                      },
                      {
                        "test": [
                          0.8096885813,
                          0.5524093929
                        ],
                        "passed_time": 1.290054876,
                        "iteration": 84,
                        "remaining_time": 0.2276567428,
                        "learn": [
                          0.9166666667,
                          0.3336461199
                        ]
                      },
                      {
                        "test": [
                          0.8041237113,
                          0.5536191593
                        ],
                        "passed_time": 1.314393271,
                        "iteration": 85,
                        "remaining_time": 0.2139709975,
                        "learn": [
                          0.9166666667,
                          0.3320256068
                        ]
                      },
                      {
                        "test": [
                          0.8068965517,
                          0.5540503892
                        ],
                        "passed_time": 1.330579101,
                        "iteration": 86,
                        "remaining_time": 0.1988221646,
                        "learn": [
                          0.9152,
                          0.3313127133
                        ]
                      },
                      {
                        "test": [
                          0.8041237113,
                          0.5551792013
                        ],
                        "passed_time": 1.346331384,
                        "iteration": 87,
                        "remaining_time": 0.1835906433,
                        "learn": [
                          0.9213483146,
                          0.3293800818
                        ]
                      },
                      {
                        "test": [
                          0.8082191781,
                          0.5556617323
                        ],
                        "passed_time": 1.36084434,
                        "iteration": 88,
                        "remaining_time": 0.1681942443,
                        "learn": [
                          0.922829582,
                          0.3287172341
                        ]
                      },
                      {
                        "test": [
                          0.8054607509,
                          0.55625566
                        ],
                        "passed_time": 1.375160049,
                        "iteration": 89,
                        "remaining_time": 0.152795561,
                        "learn": [
                          0.922829582,
                          0.3275909424
                        ]
                      },
                      {
                        "test": [
                          0.8122866894,
                          0.5568141092
                        ],
                        "passed_time": 1.390132022,
                        "iteration": 90,
                        "remaining_time": 0.1374855846,
                        "learn": [
                          0.9210950081,
                          0.3256487696
                        ]
                      },
                      {
                        "test": [
                          0.8095238095,
                          0.5555250046
                        ],
                        "passed_time": 1.405022083,
                        "iteration": 91,
                        "remaining_time": 0.1221758333,
                        "learn": [
                          0.9210950081,
                          0.3242564329
                        ]
                      },
                      {
                        "test": [
                          0.8122866894,
                          0.5553834661
                        ],
                        "passed_time": 1.419761544,
                        "iteration": 92,
                        "remaining_time": 0.1068637722,
                        "learn": [
                          0.9196141479,
                          0.3236043888
                        ]
                      },
                      {
                        "test": [
                          0.8150684932,
                          0.5549968851
                        ],
                        "passed_time": 1.433817409,
                        "iteration": 93,
                        "remaining_time": 0.09152026018,
                        "learn": [
                          0.9196141479,
                          0.3221521679
                        ]
                      },
                      {
                        "test": [
                          0.8122866894,
                          0.5561506149
                        ],
                        "passed_time": 1.452129132,
                        "iteration": 94,
                        "remaining_time": 0.07642784905,
                        "learn": [
                          0.922829582,
                          0.3207431617
                        ]
                      },
                      {
                        "test": [
                          0.8122866894,
                          0.5566992924
                        ],
                        "passed_time": 1.465569799,
                        "iteration": 95,
                        "remaining_time": 0.06106540829,
                        "learn": [
                          0.922829582,
                          0.3203109036
                        ]
                      },
                      {
                        "test": [
                          0.8122866894,
                          0.5582609881
                        ],
                        "passed_time": 1.479537498,
                        "iteration": 96,
                        "remaining_time": 0.04575889169,
                        "learn": [
                          0.922829582,
                          0.3193265075
                        ]
                      },
                      {
                        "test": [
                          0.8178694158,
                          0.5589787525
                        ],
                        "passed_time": 1.495196854,
                        "iteration": 97,
                        "remaining_time": 0.03051422151,
                        "learn": [
                          0.92431562,
                          0.3170478988
                        ]
                      },
                      {
                        "test": [
                          0.8178694158,
                          0.5594553078
                        ],
                        "passed_time": 1.519642911,
                        "iteration": 98,
                        "remaining_time": 0.0153499284,
                        "learn": [
                          0.92431562,
                          0.3158717097
                        ]
                      },
                      {
                        "test": [
                          0.8150684932,
                          0.5606630823
                        ],
                        "passed_time": 1.533866427,
                        "iteration": 99,
                        "remaining_time": 0,
                        "learn": [
                          0.9258064516,
                          0.3149249594
                        ]
                      }
                    ]
                  },
                  "total_iterations": 100,
                  "passed_iterations": 99
                },
                "path": "catboost_info",
                "name": "catboost_info"
              }
            },
            "_view_module": "catboost-widget",
            "_model_module_version": "^1.0.0",
            "_view_count": null,
            "_view_module_version": "^1.0.0",
            "layout": "IPY_MODEL_4eb4f341f47847609156e957df89f1ef",
            "_model_module": "catboost-widget"
          }
        }
      }
    }
  },
  "cells": [
    {
      "cell_type": "code",
      "metadata": {
        "id": "VAgu4i6g4WE2",
        "outputId": "45bc89a1-5fb6-426c-f50c-a00aca136158",
        "colab": {
          "base_uri": "https://localhost:8080/"
        }
      },
      "source": [
        "!pip install catboost"
      ],
      "execution_count": 28,
      "outputs": [
        {
          "output_type": "stream",
          "name": "stdout",
          "text": [
            "Requirement already satisfied: catboost in /usr/local/lib/python3.7/dist-packages (1.0.4)\n",
            "Requirement already satisfied: six in /usr/local/lib/python3.7/dist-packages (from catboost) (1.15.0)\n",
            "Requirement already satisfied: graphviz in /usr/local/lib/python3.7/dist-packages (from catboost) (0.10.1)\n",
            "Requirement already satisfied: numpy>=1.16.0 in /usr/local/lib/python3.7/dist-packages (from catboost) (1.19.5)\n",
            "Requirement already satisfied: plotly in /usr/local/lib/python3.7/dist-packages (from catboost) (4.4.1)\n",
            "Requirement already satisfied: pandas>=0.24.0 in /usr/local/lib/python3.7/dist-packages (from catboost) (1.1.5)\n",
            "Requirement already satisfied: matplotlib in /usr/local/lib/python3.7/dist-packages (from catboost) (3.2.2)\n",
            "Requirement already satisfied: scipy in /usr/local/lib/python3.7/dist-packages (from catboost) (1.4.1)\n",
            "Requirement already satisfied: python-dateutil>=2.7.3 in /usr/local/lib/python3.7/dist-packages (from pandas>=0.24.0->catboost) (2.8.2)\n",
            "Requirement already satisfied: pytz>=2017.2 in /usr/local/lib/python3.7/dist-packages (from pandas>=0.24.0->catboost) (2018.9)\n",
            "Requirement already satisfied: kiwisolver>=1.0.1 in /usr/local/lib/python3.7/dist-packages (from matplotlib->catboost) (1.3.2)\n",
            "Requirement already satisfied: pyparsing!=2.0.4,!=2.1.2,!=2.1.6,>=2.0.1 in /usr/local/lib/python3.7/dist-packages (from matplotlib->catboost) (3.0.6)\n",
            "Requirement already satisfied: cycler>=0.10 in /usr/local/lib/python3.7/dist-packages (from matplotlib->catboost) (0.11.0)\n",
            "Requirement already satisfied: retrying>=1.3.3 in /usr/local/lib/python3.7/dist-packages (from plotly->catboost) (1.3.3)\n"
          ]
        }
      ]
    },
    {
      "cell_type": "code",
      "metadata": {
        "id": "8OnzPUF84dPV"
      },
      "source": [
        "import numpy as np\n",
        "import pandas as pd\n",
        "import seaborn as sns\n",
        "import statsmodels.api as sm\n",
        "from catboost import CatBoostClassifier\n",
        "from scipy import stats\n",
        "from sklearn.model_selection import train_test_split\n",
        "from sklearn.metrics import f1_score, accuracy_score"
      ],
      "execution_count": 29,
      "outputs": []
    },
    {
      "cell_type": "code",
      "metadata": {
        "id": "Y4-9Zgec5Mu9"
      },
      "source": [
        "def cleaner(df):\n",
        "    print(f\"Dataset Shape: {df.shape}\")\n",
        "    summary = pd.DataFrame(df.dtypes,columns=['dtypes'])\n",
        "    summary = summary.reset_index()\n",
        "    summary['Name'] = summary['index']\n",
        "    summary = summary[['Name','dtypes']]\n",
        "    summary['Missing'] = df.isnull().sum().values    \n",
        "    summary['Uniques'] = df.nunique().values\n",
        "    summary['First Value'] = df.loc[0].values\n",
        "    summary['Second Value'] = df.loc[1].values\n",
        "    summary\n",
        "    return summary"
      ],
      "execution_count": 30,
      "outputs": []
    },
    {
      "cell_type": "code",
      "metadata": {
        "id": "wWCnybbgUDci",
        "colab": {
          "base_uri": "https://localhost:8080/"
        },
        "outputId": "7f9e2fef-4f57-4d05-fedd-165108417a2b"
      },
      "source": [
        "!ls"
      ],
      "execution_count": 31,
      "outputs": [
        {
          "output_type": "stream",
          "name": "stdout",
          "text": [
            "catboost_info  data.csv  sample_data\n"
          ]
        }
      ]
    },
    {
      "cell_type": "code",
      "metadata": {
        "id": "BBSz0k6Y47su"
      },
      "source": [
        "file_loc = \"data.csv\""
      ],
      "execution_count": 32,
      "outputs": []
    },
    {
      "cell_type": "code",
      "metadata": {
        "id": "VApPPwXY4l5X"
      },
      "source": [
        "df = pd.read_csv(file_loc)"
      ],
      "execution_count": 33,
      "outputs": []
    },
    {
      "cell_type": "code",
      "metadata": {
        "id": "XB_pQwFu46mO",
        "outputId": "e6d2a8eb-6dd2-422e-e03d-38bc44f1243c",
        "colab": {
          "base_uri": "https://localhost:8080/",
          "height": 215
        }
      },
      "source": [
        "df.head()"
      ],
      "execution_count": 34,
      "outputs": [
        {
          "output_type": "execute_result",
          "data": {
            "text/html": [
              "\n",
              "  <div id=\"df-0766c8cd-c16c-4583-bceb-aa6799c04fd8\">\n",
              "    <div class=\"colab-df-container\">\n",
              "      <div>\n",
              "<style scoped>\n",
              "    .dataframe tbody tr th:only-of-type {\n",
              "        vertical-align: middle;\n",
              "    }\n",
              "\n",
              "    .dataframe tbody tr th {\n",
              "        vertical-align: top;\n",
              "    }\n",
              "\n",
              "    .dataframe thead th {\n",
              "        text-align: right;\n",
              "    }\n",
              "</style>\n",
              "<table border=\"1\" class=\"dataframe\">\n",
              "  <thead>\n",
              "    <tr style=\"text-align: right;\">\n",
              "      <th></th>\n",
              "      <th>ApplicantIncome</th>\n",
              "      <th>CoapplicantIncome</th>\n",
              "      <th>LoanAmount</th>\n",
              "      <th>Loan_Amount_Term</th>\n",
              "      <th>Credit_History</th>\n",
              "      <th>Loan_Status</th>\n",
              "    </tr>\n",
              "  </thead>\n",
              "  <tbody>\n",
              "    <tr>\n",
              "      <th>0</th>\n",
              "      <td>5849.0</td>\n",
              "      <td>0.0</td>\n",
              "      <td>0.0</td>\n",
              "      <td>360.0</td>\n",
              "      <td>Yes</td>\n",
              "      <td>1</td>\n",
              "    </tr>\n",
              "    <tr>\n",
              "      <th>1</th>\n",
              "      <td>4583.0</td>\n",
              "      <td>1508.0</td>\n",
              "      <td>128.0</td>\n",
              "      <td>360.0</td>\n",
              "      <td>Yes</td>\n",
              "      <td>0</td>\n",
              "    </tr>\n",
              "    <tr>\n",
              "      <th>2</th>\n",
              "      <td>3000.0</td>\n",
              "      <td>0.0</td>\n",
              "      <td>66.0</td>\n",
              "      <td>360.0</td>\n",
              "      <td>Yes</td>\n",
              "      <td>1</td>\n",
              "    </tr>\n",
              "    <tr>\n",
              "      <th>3</th>\n",
              "      <td>2583.0</td>\n",
              "      <td>2358.0</td>\n",
              "      <td>120.0</td>\n",
              "      <td>360.0</td>\n",
              "      <td>Yes</td>\n",
              "      <td>1</td>\n",
              "    </tr>\n",
              "    <tr>\n",
              "      <th>4</th>\n",
              "      <td>6000.0</td>\n",
              "      <td>0.0</td>\n",
              "      <td>141.0</td>\n",
              "      <td>360.0</td>\n",
              "      <td>Yes</td>\n",
              "      <td>1</td>\n",
              "    </tr>\n",
              "  </tbody>\n",
              "</table>\n",
              "</div>\n",
              "      <button class=\"colab-df-convert\" onclick=\"convertToInteractive('df-0766c8cd-c16c-4583-bceb-aa6799c04fd8')\"\n",
              "              title=\"Convert this dataframe to an interactive table.\"\n",
              "              style=\"display:none;\">\n",
              "        \n",
              "  <svg xmlns=\"http://www.w3.org/2000/svg\" height=\"24px\"viewBox=\"0 0 24 24\"\n",
              "       width=\"24px\">\n",
              "    <path d=\"M0 0h24v24H0V0z\" fill=\"none\"/>\n",
              "    <path d=\"M18.56 5.44l.94 2.06.94-2.06 2.06-.94-2.06-.94-.94-2.06-.94 2.06-2.06.94zm-11 1L8.5 8.5l.94-2.06 2.06-.94-2.06-.94L8.5 2.5l-.94 2.06-2.06.94zm10 10l.94 2.06.94-2.06 2.06-.94-2.06-.94-.94-2.06-.94 2.06-2.06.94z\"/><path d=\"M17.41 7.96l-1.37-1.37c-.4-.4-.92-.59-1.43-.59-.52 0-1.04.2-1.43.59L10.3 9.45l-7.72 7.72c-.78.78-.78 2.05 0 2.83L4 21.41c.39.39.9.59 1.41.59.51 0 1.02-.2 1.41-.59l7.78-7.78 2.81-2.81c.8-.78.8-2.07 0-2.86zM5.41 20L4 18.59l7.72-7.72 1.47 1.35L5.41 20z\"/>\n",
              "  </svg>\n",
              "      </button>\n",
              "      \n",
              "  <style>\n",
              "    .colab-df-container {\n",
              "      display:flex;\n",
              "      flex-wrap:wrap;\n",
              "      gap: 12px;\n",
              "    }\n",
              "\n",
              "    .colab-df-convert {\n",
              "      background-color: #E8F0FE;\n",
              "      border: none;\n",
              "      border-radius: 50%;\n",
              "      cursor: pointer;\n",
              "      display: none;\n",
              "      fill: #1967D2;\n",
              "      height: 32px;\n",
              "      padding: 0 0 0 0;\n",
              "      width: 32px;\n",
              "    }\n",
              "\n",
              "    .colab-df-convert:hover {\n",
              "      background-color: #E2EBFA;\n",
              "      box-shadow: 0px 1px 2px rgba(60, 64, 67, 0.3), 0px 1px 3px 1px rgba(60, 64, 67, 0.15);\n",
              "      fill: #174EA6;\n",
              "    }\n",
              "\n",
              "    [theme=dark] .colab-df-convert {\n",
              "      background-color: #3B4455;\n",
              "      fill: #D2E3FC;\n",
              "    }\n",
              "\n",
              "    [theme=dark] .colab-df-convert:hover {\n",
              "      background-color: #434B5C;\n",
              "      box-shadow: 0px 1px 3px 1px rgba(0, 0, 0, 0.15);\n",
              "      filter: drop-shadow(0px 1px 2px rgba(0, 0, 0, 0.3));\n",
              "      fill: #FFFFFF;\n",
              "    }\n",
              "  </style>\n",
              "\n",
              "      <script>\n",
              "        const buttonEl =\n",
              "          document.querySelector('#df-0766c8cd-c16c-4583-bceb-aa6799c04fd8 button.colab-df-convert');\n",
              "        buttonEl.style.display =\n",
              "          google.colab.kernel.accessAllowed ? 'block' : 'none';\n",
              "\n",
              "        async function convertToInteractive(key) {\n",
              "          const element = document.querySelector('#df-0766c8cd-c16c-4583-bceb-aa6799c04fd8');\n",
              "          const dataTable =\n",
              "            await google.colab.kernel.invokeFunction('convertToInteractive',\n",
              "                                                     [key], {});\n",
              "          if (!dataTable) return;\n",
              "\n",
              "          const docLinkHtml = 'Like what you see? Visit the ' +\n",
              "            '<a target=\"_blank\" href=https://colab.research.google.com/notebooks/data_table.ipynb>data table notebook</a>'\n",
              "            + ' to learn more about interactive tables.';\n",
              "          element.innerHTML = '';\n",
              "          dataTable['output_type'] = 'display_data';\n",
              "          await google.colab.output.renderOutput(dataTable, element);\n",
              "          const docLink = document.createElement('div');\n",
              "          docLink.innerHTML = docLinkHtml;\n",
              "          element.appendChild(docLink);\n",
              "        }\n",
              "      </script>\n",
              "    </div>\n",
              "  </div>\n",
              "  "
            ],
            "text/plain": [
              "   ApplicantIncome  CoapplicantIncome  ...  Credit_History  Loan_Status\n",
              "0           5849.0                0.0  ...             Yes            1\n",
              "1           4583.0             1508.0  ...             Yes            0\n",
              "2           3000.0                0.0  ...             Yes            1\n",
              "3           2583.0             2358.0  ...             Yes            1\n",
              "4           6000.0                0.0  ...             Yes            1\n",
              "\n",
              "[5 rows x 6 columns]"
            ]
          },
          "metadata": {},
          "execution_count": 34
        }
      ]
    },
    {
      "cell_type": "code",
      "metadata": {
        "id": "QtD-QFme4_o9",
        "outputId": "28fbf4b2-5548-4d51-892e-4b790594abb1",
        "colab": {
          "base_uri": "https://localhost:8080/"
        }
      },
      "source": [
        "print (\"Total number of rows in dataset = {}\".format(df.shape[0]))\n",
        "print (\"Total number of columns in dataset = {}\".format(df.shape[1]))"
      ],
      "execution_count": 35,
      "outputs": [
        {
          "output_type": "stream",
          "name": "stdout",
          "text": [
            "Total number of rows in dataset = 614\n",
            "Total number of columns in dataset = 6\n"
          ]
        }
      ]
    },
    {
      "cell_type": "code",
      "metadata": {
        "id": "VfGknafk5INC",
        "outputId": "232bd1ad-cc0c-4095-86ad-1e27d9cfbcf8",
        "colab": {
          "base_uri": "https://localhost:8080/",
          "height": 254
        }
      },
      "source": [
        "result = cleaner(df)\n",
        "result"
      ],
      "execution_count": 36,
      "outputs": [
        {
          "output_type": "stream",
          "name": "stdout",
          "text": [
            "Dataset Shape: (614, 6)\n"
          ]
        },
        {
          "output_type": "execute_result",
          "data": {
            "text/html": [
              "\n",
              "  <div id=\"df-54583dbd-06f8-4210-a8c9-915724bf858b\">\n",
              "    <div class=\"colab-df-container\">\n",
              "      <div>\n",
              "<style scoped>\n",
              "    .dataframe tbody tr th:only-of-type {\n",
              "        vertical-align: middle;\n",
              "    }\n",
              "\n",
              "    .dataframe tbody tr th {\n",
              "        vertical-align: top;\n",
              "    }\n",
              "\n",
              "    .dataframe thead th {\n",
              "        text-align: right;\n",
              "    }\n",
              "</style>\n",
              "<table border=\"1\" class=\"dataframe\">\n",
              "  <thead>\n",
              "    <tr style=\"text-align: right;\">\n",
              "      <th></th>\n",
              "      <th>Name</th>\n",
              "      <th>dtypes</th>\n",
              "      <th>Missing</th>\n",
              "      <th>Uniques</th>\n",
              "      <th>First Value</th>\n",
              "      <th>Second Value</th>\n",
              "    </tr>\n",
              "  </thead>\n",
              "  <tbody>\n",
              "    <tr>\n",
              "      <th>0</th>\n",
              "      <td>ApplicantIncome</td>\n",
              "      <td>float64</td>\n",
              "      <td>2</td>\n",
              "      <td>503</td>\n",
              "      <td>5849</td>\n",
              "      <td>4583</td>\n",
              "    </tr>\n",
              "    <tr>\n",
              "      <th>1</th>\n",
              "      <td>CoapplicantIncome</td>\n",
              "      <td>float64</td>\n",
              "      <td>2</td>\n",
              "      <td>287</td>\n",
              "      <td>0</td>\n",
              "      <td>1508</td>\n",
              "    </tr>\n",
              "    <tr>\n",
              "      <th>2</th>\n",
              "      <td>LoanAmount</td>\n",
              "      <td>float64</td>\n",
              "      <td>3</td>\n",
              "      <td>203</td>\n",
              "      <td>0</td>\n",
              "      <td>128</td>\n",
              "    </tr>\n",
              "    <tr>\n",
              "      <th>3</th>\n",
              "      <td>Loan_Amount_Term</td>\n",
              "      <td>float64</td>\n",
              "      <td>2</td>\n",
              "      <td>11</td>\n",
              "      <td>360</td>\n",
              "      <td>360</td>\n",
              "    </tr>\n",
              "    <tr>\n",
              "      <th>4</th>\n",
              "      <td>Credit_History</td>\n",
              "      <td>object</td>\n",
              "      <td>0</td>\n",
              "      <td>2</td>\n",
              "      <td>Yes</td>\n",
              "      <td>Yes</td>\n",
              "    </tr>\n",
              "    <tr>\n",
              "      <th>5</th>\n",
              "      <td>Loan_Status</td>\n",
              "      <td>int64</td>\n",
              "      <td>0</td>\n",
              "      <td>2</td>\n",
              "      <td>1</td>\n",
              "      <td>0</td>\n",
              "    </tr>\n",
              "  </tbody>\n",
              "</table>\n",
              "</div>\n",
              "      <button class=\"colab-df-convert\" onclick=\"convertToInteractive('df-54583dbd-06f8-4210-a8c9-915724bf858b')\"\n",
              "              title=\"Convert this dataframe to an interactive table.\"\n",
              "              style=\"display:none;\">\n",
              "        \n",
              "  <svg xmlns=\"http://www.w3.org/2000/svg\" height=\"24px\"viewBox=\"0 0 24 24\"\n",
              "       width=\"24px\">\n",
              "    <path d=\"M0 0h24v24H0V0z\" fill=\"none\"/>\n",
              "    <path d=\"M18.56 5.44l.94 2.06.94-2.06 2.06-.94-2.06-.94-.94-2.06-.94 2.06-2.06.94zm-11 1L8.5 8.5l.94-2.06 2.06-.94-2.06-.94L8.5 2.5l-.94 2.06-2.06.94zm10 10l.94 2.06.94-2.06 2.06-.94-2.06-.94-.94-2.06-.94 2.06-2.06.94z\"/><path d=\"M17.41 7.96l-1.37-1.37c-.4-.4-.92-.59-1.43-.59-.52 0-1.04.2-1.43.59L10.3 9.45l-7.72 7.72c-.78.78-.78 2.05 0 2.83L4 21.41c.39.39.9.59 1.41.59.51 0 1.02-.2 1.41-.59l7.78-7.78 2.81-2.81c.8-.78.8-2.07 0-2.86zM5.41 20L4 18.59l7.72-7.72 1.47 1.35L5.41 20z\"/>\n",
              "  </svg>\n",
              "      </button>\n",
              "      \n",
              "  <style>\n",
              "    .colab-df-container {\n",
              "      display:flex;\n",
              "      flex-wrap:wrap;\n",
              "      gap: 12px;\n",
              "    }\n",
              "\n",
              "    .colab-df-convert {\n",
              "      background-color: #E8F0FE;\n",
              "      border: none;\n",
              "      border-radius: 50%;\n",
              "      cursor: pointer;\n",
              "      display: none;\n",
              "      fill: #1967D2;\n",
              "      height: 32px;\n",
              "      padding: 0 0 0 0;\n",
              "      width: 32px;\n",
              "    }\n",
              "\n",
              "    .colab-df-convert:hover {\n",
              "      background-color: #E2EBFA;\n",
              "      box-shadow: 0px 1px 2px rgba(60, 64, 67, 0.3), 0px 1px 3px 1px rgba(60, 64, 67, 0.15);\n",
              "      fill: #174EA6;\n",
              "    }\n",
              "\n",
              "    [theme=dark] .colab-df-convert {\n",
              "      background-color: #3B4455;\n",
              "      fill: #D2E3FC;\n",
              "    }\n",
              "\n",
              "    [theme=dark] .colab-df-convert:hover {\n",
              "      background-color: #434B5C;\n",
              "      box-shadow: 0px 1px 3px 1px rgba(0, 0, 0, 0.15);\n",
              "      filter: drop-shadow(0px 1px 2px rgba(0, 0, 0, 0.3));\n",
              "      fill: #FFFFFF;\n",
              "    }\n",
              "  </style>\n",
              "\n",
              "      <script>\n",
              "        const buttonEl =\n",
              "          document.querySelector('#df-54583dbd-06f8-4210-a8c9-915724bf858b button.colab-df-convert');\n",
              "        buttonEl.style.display =\n",
              "          google.colab.kernel.accessAllowed ? 'block' : 'none';\n",
              "\n",
              "        async function convertToInteractive(key) {\n",
              "          const element = document.querySelector('#df-54583dbd-06f8-4210-a8c9-915724bf858b');\n",
              "          const dataTable =\n",
              "            await google.colab.kernel.invokeFunction('convertToInteractive',\n",
              "                                                     [key], {});\n",
              "          if (!dataTable) return;\n",
              "\n",
              "          const docLinkHtml = 'Like what you see? Visit the ' +\n",
              "            '<a target=\"_blank\" href=https://colab.research.google.com/notebooks/data_table.ipynb>data table notebook</a>'\n",
              "            + ' to learn more about interactive tables.';\n",
              "          element.innerHTML = '';\n",
              "          dataTable['output_type'] = 'display_data';\n",
              "          await google.colab.output.renderOutput(dataTable, element);\n",
              "          const docLink = document.createElement('div');\n",
              "          docLink.innerHTML = docLinkHtml;\n",
              "          element.appendChild(docLink);\n",
              "        }\n",
              "      </script>\n",
              "    </div>\n",
              "  </div>\n",
              "  "
            ],
            "text/plain": [
              "                Name   dtypes  Missing  Uniques First Value Second Value\n",
              "0    ApplicantIncome  float64        2      503        5849         4583\n",
              "1  CoapplicantIncome  float64        2      287           0         1508\n",
              "2         LoanAmount  float64        3      203           0          128\n",
              "3   Loan_Amount_Term  float64        2       11         360          360\n",
              "4     Credit_History   object        0        2         Yes          Yes\n",
              "5        Loan_Status    int64        0        2           1            0"
            ]
          },
          "metadata": {},
          "execution_count": 36
        }
      ]
    },
    {
      "cell_type": "code",
      "metadata": {
        "id": "bwTgwzIM5PoF"
      },
      "source": [
        "target = \"Loan_Status\"\n",
        "X = df.loc[:, df.columns != target]\n",
        "y = df.loc[:, target]"
      ],
      "execution_count": 37,
      "outputs": []
    },
    {
      "cell_type": "code",
      "metadata": {
        "id": "5vi_Co5e5qUX"
      },
      "source": [
        "X_train, X_test, y_train, y_test = train_test_split(X, y, \n",
        "                                                    test_size=0.33, \n",
        "                                                    random_state=42)"
      ],
      "execution_count": 38,
      "outputs": []
    },
    {
      "cell_type": "code",
      "metadata": {
        "id": "br0OqNWp6m63",
        "outputId": "70121a3d-db41-44aa-91fc-139ac1589748",
        "colab": {
          "base_uri": "https://localhost:8080/",
          "height": 215
        }
      },
      "source": [
        "X_train.head()"
      ],
      "execution_count": 39,
      "outputs": [
        {
          "output_type": "execute_result",
          "data": {
            "text/html": [
              "\n",
              "  <div id=\"df-86f05a98-8f30-41a0-84ed-bb03642f32ab\">\n",
              "    <div class=\"colab-df-container\">\n",
              "      <div>\n",
              "<style scoped>\n",
              "    .dataframe tbody tr th:only-of-type {\n",
              "        vertical-align: middle;\n",
              "    }\n",
              "\n",
              "    .dataframe tbody tr th {\n",
              "        vertical-align: top;\n",
              "    }\n",
              "\n",
              "    .dataframe thead th {\n",
              "        text-align: right;\n",
              "    }\n",
              "</style>\n",
              "<table border=\"1\" class=\"dataframe\">\n",
              "  <thead>\n",
              "    <tr style=\"text-align: right;\">\n",
              "      <th></th>\n",
              "      <th>ApplicantIncome</th>\n",
              "      <th>CoapplicantIncome</th>\n",
              "      <th>LoanAmount</th>\n",
              "      <th>Loan_Amount_Term</th>\n",
              "      <th>Credit_History</th>\n",
              "    </tr>\n",
              "  </thead>\n",
              "  <tbody>\n",
              "    <tr>\n",
              "      <th>244</th>\n",
              "      <td>3406.0</td>\n",
              "      <td>4417.0</td>\n",
              "      <td>123.0</td>\n",
              "      <td>360.0</td>\n",
              "      <td>Yes</td>\n",
              "    </tr>\n",
              "    <tr>\n",
              "      <th>393</th>\n",
              "      <td>1993.0</td>\n",
              "      <td>1625.0</td>\n",
              "      <td>113.0</td>\n",
              "      <td>180.0</td>\n",
              "      <td>Yes</td>\n",
              "    </tr>\n",
              "    <tr>\n",
              "      <th>310</th>\n",
              "      <td>2917.0</td>\n",
              "      <td>0.0</td>\n",
              "      <td>84.0</td>\n",
              "      <td>360.0</td>\n",
              "      <td>Yes</td>\n",
              "    </tr>\n",
              "    <tr>\n",
              "      <th>408</th>\n",
              "      <td>8300.0</td>\n",
              "      <td>0.0</td>\n",
              "      <td>152.0</td>\n",
              "      <td>300.0</td>\n",
              "      <td>No</td>\n",
              "    </tr>\n",
              "    <tr>\n",
              "      <th>572</th>\n",
              "      <td>16666.0</td>\n",
              "      <td>0.0</td>\n",
              "      <td>275.0</td>\n",
              "      <td>360.0</td>\n",
              "      <td>Yes</td>\n",
              "    </tr>\n",
              "  </tbody>\n",
              "</table>\n",
              "</div>\n",
              "      <button class=\"colab-df-convert\" onclick=\"convertToInteractive('df-86f05a98-8f30-41a0-84ed-bb03642f32ab')\"\n",
              "              title=\"Convert this dataframe to an interactive table.\"\n",
              "              style=\"display:none;\">\n",
              "        \n",
              "  <svg xmlns=\"http://www.w3.org/2000/svg\" height=\"24px\"viewBox=\"0 0 24 24\"\n",
              "       width=\"24px\">\n",
              "    <path d=\"M0 0h24v24H0V0z\" fill=\"none\"/>\n",
              "    <path d=\"M18.56 5.44l.94 2.06.94-2.06 2.06-.94-2.06-.94-.94-2.06-.94 2.06-2.06.94zm-11 1L8.5 8.5l.94-2.06 2.06-.94-2.06-.94L8.5 2.5l-.94 2.06-2.06.94zm10 10l.94 2.06.94-2.06 2.06-.94-2.06-.94-.94-2.06-.94 2.06-2.06.94z\"/><path d=\"M17.41 7.96l-1.37-1.37c-.4-.4-.92-.59-1.43-.59-.52 0-1.04.2-1.43.59L10.3 9.45l-7.72 7.72c-.78.78-.78 2.05 0 2.83L4 21.41c.39.39.9.59 1.41.59.51 0 1.02-.2 1.41-.59l7.78-7.78 2.81-2.81c.8-.78.8-2.07 0-2.86zM5.41 20L4 18.59l7.72-7.72 1.47 1.35L5.41 20z\"/>\n",
              "  </svg>\n",
              "      </button>\n",
              "      \n",
              "  <style>\n",
              "    .colab-df-container {\n",
              "      display:flex;\n",
              "      flex-wrap:wrap;\n",
              "      gap: 12px;\n",
              "    }\n",
              "\n",
              "    .colab-df-convert {\n",
              "      background-color: #E8F0FE;\n",
              "      border: none;\n",
              "      border-radius: 50%;\n",
              "      cursor: pointer;\n",
              "      display: none;\n",
              "      fill: #1967D2;\n",
              "      height: 32px;\n",
              "      padding: 0 0 0 0;\n",
              "      width: 32px;\n",
              "    }\n",
              "\n",
              "    .colab-df-convert:hover {\n",
              "      background-color: #E2EBFA;\n",
              "      box-shadow: 0px 1px 2px rgba(60, 64, 67, 0.3), 0px 1px 3px 1px rgba(60, 64, 67, 0.15);\n",
              "      fill: #174EA6;\n",
              "    }\n",
              "\n",
              "    [theme=dark] .colab-df-convert {\n",
              "      background-color: #3B4455;\n",
              "      fill: #D2E3FC;\n",
              "    }\n",
              "\n",
              "    [theme=dark] .colab-df-convert:hover {\n",
              "      background-color: #434B5C;\n",
              "      box-shadow: 0px 1px 3px 1px rgba(0, 0, 0, 0.15);\n",
              "      filter: drop-shadow(0px 1px 2px rgba(0, 0, 0, 0.3));\n",
              "      fill: #FFFFFF;\n",
              "    }\n",
              "  </style>\n",
              "\n",
              "      <script>\n",
              "        const buttonEl =\n",
              "          document.querySelector('#df-86f05a98-8f30-41a0-84ed-bb03642f32ab button.colab-df-convert');\n",
              "        buttonEl.style.display =\n",
              "          google.colab.kernel.accessAllowed ? 'block' : 'none';\n",
              "\n",
              "        async function convertToInteractive(key) {\n",
              "          const element = document.querySelector('#df-86f05a98-8f30-41a0-84ed-bb03642f32ab');\n",
              "          const dataTable =\n",
              "            await google.colab.kernel.invokeFunction('convertToInteractive',\n",
              "                                                     [key], {});\n",
              "          if (!dataTable) return;\n",
              "\n",
              "          const docLinkHtml = 'Like what you see? Visit the ' +\n",
              "            '<a target=\"_blank\" href=https://colab.research.google.com/notebooks/data_table.ipynb>data table notebook</a>'\n",
              "            + ' to learn more about interactive tables.';\n",
              "          element.innerHTML = '';\n",
              "          dataTable['output_type'] = 'display_data';\n",
              "          await google.colab.output.renderOutput(dataTable, element);\n",
              "          const docLink = document.createElement('div');\n",
              "          docLink.innerHTML = docLinkHtml;\n",
              "          element.appendChild(docLink);\n",
              "        }\n",
              "      </script>\n",
              "    </div>\n",
              "  </div>\n",
              "  "
            ],
            "text/plain": [
              "     ApplicantIncome  CoapplicantIncome  ...  Loan_Amount_Term  Credit_History\n",
              "244           3406.0             4417.0  ...             360.0             Yes\n",
              "393           1993.0             1625.0  ...             180.0             Yes\n",
              "310           2917.0                0.0  ...             360.0             Yes\n",
              "408           8300.0                0.0  ...             300.0              No\n",
              "572          16666.0                0.0  ...             360.0             Yes\n",
              "\n",
              "[5 rows x 5 columns]"
            ]
          },
          "metadata": {},
          "execution_count": 39
        }
      ]
    },
    {
      "cell_type": "code",
      "metadata": {
        "id": "zeXK9uaaBc-s"
      },
      "source": [
        "features = list(X_train.columns)"
      ],
      "execution_count": 40,
      "outputs": []
    },
    {
      "cell_type": "code",
      "metadata": {
        "id": "QwgODY1MBgUa"
      },
      "source": [
        "cat_features = [\"Credit_History\"]"
      ],
      "execution_count": 41,
      "outputs": []
    },
    {
      "cell_type": "code",
      "metadata": {
        "id": "48aXcEzc6NQP"
      },
      "source": [
        "model_cb = CatBoostClassifier(task_type='GPU', iterations=100, \n",
        "                              random_state = 42, \n",
        "                              eval_metric=\"F1\")"
      ],
      "execution_count": 42,
      "outputs": []
    },
    {
      "cell_type": "code",
      "metadata": {
        "id": "kmU3OQJY535k",
        "outputId": "1d971b6f-8f24-47d5-a30f-f5c299cfef6b",
        "colab": {
          "base_uri": "https://localhost:8080/",
          "height": 1000,
          "referenced_widgets": [
            "7289be1c8b2545ae84ff4e2fd84dbe08"
          ]
        }
      },
      "source": [
        "model_cb.fit(X_train, y_train, cat_features= cat_features, plot=True, \n",
        "             eval_set=(X_test, y_test))"
      ],
      "execution_count": 43,
      "outputs": [
        {
          "output_type": "display_data",
          "data": {
            "application/vnd.jupyter.widget-view+json": {
              "model_id": "7289be1c8b2545ae84ff4e2fd84dbe08",
              "version_minor": 0,
              "version_major": 2
            },
            "text/plain": [
              "MetricVisualizer(layout=Layout(align_self='stretch', height='500px'))"
            ]
          },
          "metadata": {}
        },
        {
          "output_type": "stream",
          "name": "stdout",
          "text": [
            "Learning rate set to 0.199227\n",
            "0:\tlearn: 0.8524046\ttest: 0.8333333\tbest: 0.8333333 (0)\ttotal: 39.2ms\tremaining: 3.88s\n",
            "1:\tlearn: 0.8557845\ttest: 0.8327645\tbest: 0.8333333 (0)\ttotal: 86.4ms\tremaining: 4.23s\n",
            "2:\tlearn: 0.8446602\ttest: 0.8510638\tbest: 0.8510638 (2)\ttotal: 123ms\tremaining: 3.96s\n",
            "3:\tlearn: 0.8502415\ttest: 0.8439716\tbest: 0.8510638 (2)\ttotal: 150ms\tremaining: 3.6s\n",
            "4:\tlearn: 0.8639241\ttest: 0.8231293\tbest: 0.8510638 (2)\ttotal: 166ms\tremaining: 3.15s\n",
            "5:\tlearn: 0.8630573\ttest: 0.8247423\tbest: 0.8510638 (2)\ttotal: 174ms\tremaining: 2.73s\n",
            "6:\tlearn: 0.8648649\ttest: 0.8362369\tbest: 0.8510638 (2)\ttotal: 188ms\tremaining: 2.5s\n",
            "7:\tlearn: 0.8639241\ttest: 0.8203390\tbest: 0.8510638 (2)\ttotal: 210ms\tremaining: 2.41s\n",
            "8:\tlearn: 0.8669797\ttest: 0.8227425\tbest: 0.8510638 (2)\ttotal: 218ms\tremaining: 2.21s\n",
            "9:\tlearn: 0.8603175\ttest: 0.8231293\tbest: 0.8510638 (2)\ttotal: 223ms\tremaining: 2.01s\n",
            "10:\tlearn: 0.8553459\ttest: 0.8215488\tbest: 0.8510638 (2)\ttotal: 236ms\tremaining: 1.91s\n",
            "11:\tlearn: 0.8584906\ttest: 0.8203390\tbest: 0.8510638 (2)\ttotal: 253ms\tremaining: 1.85s\n",
            "12:\tlearn: 0.8611987\ttest: 0.8247423\tbest: 0.8510638 (2)\ttotal: 261ms\tremaining: 1.75s\n",
            "13:\tlearn: 0.8607595\ttest: 0.8275862\tbest: 0.8510638 (2)\ttotal: 277ms\tremaining: 1.7s\n",
            "14:\tlearn: 0.8607595\ttest: 0.8275862\tbest: 0.8510638 (2)\ttotal: 304ms\tremaining: 1.72s\n",
            "15:\tlearn: 0.8607595\ttest: 0.8304498\tbest: 0.8510638 (2)\ttotal: 319ms\tremaining: 1.67s\n",
            "16:\tlearn: 0.8607595\ttest: 0.8275862\tbest: 0.8510638 (2)\ttotal: 330ms\tremaining: 1.61s\n",
            "17:\tlearn: 0.8634921\ttest: 0.8362369\tbest: 0.8510638 (2)\ttotal: 342ms\tremaining: 1.56s\n",
            "18:\tlearn: 0.8634921\ttest: 0.8251748\tbest: 0.8510638 (2)\ttotal: 351ms\tremaining: 1.5s\n",
            "19:\tlearn: 0.8652932\ttest: 0.8166090\tbest: 0.8510638 (2)\ttotal: 364ms\tremaining: 1.45s\n",
            "20:\tlearn: 0.8666667\ttest: 0.8166090\tbest: 0.8510638 (2)\ttotal: 381ms\tremaining: 1.43s\n",
            "21:\tlearn: 0.8694268\ttest: 0.8166090\tbest: 0.8510638 (2)\ttotal: 389ms\tremaining: 1.38s\n",
            "22:\tlearn: 0.8694268\ttest: 0.8194444\tbest: 0.8510638 (2)\ttotal: 401ms\tremaining: 1.34s\n",
            "23:\tlearn: 0.8708134\ttest: 0.8194444\tbest: 0.8510638 (2)\ttotal: 413ms\tremaining: 1.31s\n",
            "24:\tlearn: 0.8698413\ttest: 0.8122867\tbest: 0.8510638 (2)\ttotal: 421ms\tremaining: 1.26s\n",
            "25:\tlearn: 0.8662420\ttest: 0.8122867\tbest: 0.8510638 (2)\ttotal: 471ms\tremaining: 1.34s\n",
            "26:\tlearn: 0.8662420\ttest: 0.8096886\tbest: 0.8510638 (2)\ttotal: 515ms\tremaining: 1.39s\n",
            "27:\tlearn: 0.8694268\ttest: 0.8137931\tbest: 0.8510638 (2)\ttotal: 537ms\tremaining: 1.38s\n",
            "28:\tlearn: 0.8644338\ttest: 0.8153310\tbest: 0.8510638 (2)\ttotal: 544ms\tremaining: 1.33s\n",
            "29:\tlearn: 0.8626198\ttest: 0.8194444\tbest: 0.8510638 (2)\ttotal: 553ms\tremaining: 1.29s\n",
            "30:\tlearn: 0.8658147\ttest: 0.8194444\tbest: 0.8510638 (2)\ttotal: 562ms\tremaining: 1.25s\n",
            "31:\tlearn: 0.8658147\ttest: 0.8222997\tbest: 0.8510638 (2)\ttotal: 568ms\tremaining: 1.21s\n",
            "32:\tlearn: 0.8640000\ttest: 0.8194444\tbest: 0.8510638 (2)\ttotal: 575ms\tremaining: 1.17s\n",
            "33:\tlearn: 0.8658147\ttest: 0.8194444\tbest: 0.8510638 (2)\ttotal: 582ms\tremaining: 1.13s\n",
            "34:\tlearn: 0.8658147\ttest: 0.8280702\tbest: 0.8510638 (2)\ttotal: 589ms\tremaining: 1.09s\n",
            "35:\tlearn: 0.8726115\ttest: 0.8263889\tbest: 0.8510638 (2)\ttotal: 597ms\tremaining: 1.06s\n",
            "36:\tlearn: 0.8726115\ttest: 0.8222997\tbest: 0.8510638 (2)\ttotal: 605ms\tremaining: 1.03s\n",
            "37:\tlearn: 0.8726115\ttest: 0.8206897\tbest: 0.8510638 (2)\ttotal: 612ms\tremaining: 999ms\n",
            "38:\tlearn: 0.8775835\ttest: 0.8178694\tbest: 0.8510638 (2)\ttotal: 619ms\tremaining: 969ms\n",
            "39:\tlearn: 0.8761905\ttest: 0.8206897\tbest: 0.8510638 (2)\ttotal: 627ms\tremaining: 940ms\n",
            "40:\tlearn: 0.8775835\ttest: 0.8206897\tbest: 0.8510638 (2)\ttotal: 633ms\tremaining: 912ms\n",
            "41:\tlearn: 0.8775835\ttest: 0.8206897\tbest: 0.8510638 (2)\ttotal: 641ms\tremaining: 885ms\n",
            "42:\tlearn: 0.8775835\ttest: 0.8235294\tbest: 0.8510638 (2)\ttotal: 648ms\tremaining: 859ms\n",
            "43:\tlearn: 0.8775835\ttest: 0.8235294\tbest: 0.8510638 (2)\ttotal: 672ms\tremaining: 855ms\n",
            "44:\tlearn: 0.8811410\ttest: 0.8206897\tbest: 0.8510638 (2)\ttotal: 679ms\tremaining: 829ms\n",
            "45:\tlearn: 0.8775835\ttest: 0.8206897\tbest: 0.8510638 (2)\ttotal: 693ms\tremaining: 814ms\n",
            "46:\tlearn: 0.8761905\ttest: 0.8206897\tbest: 0.8510638 (2)\ttotal: 701ms\tremaining: 790ms\n",
            "47:\tlearn: 0.8775835\ttest: 0.8178694\tbest: 0.8510638 (2)\ttotal: 712ms\tremaining: 771ms\n",
            "48:\tlearn: 0.8789809\ttest: 0.8178694\tbest: 0.8510638 (2)\ttotal: 719ms\tremaining: 748ms\n",
            "49:\tlearn: 0.8839428\ttest: 0.8178694\tbest: 0.8510638 (2)\ttotal: 726ms\tremaining: 726ms\n",
            "50:\tlearn: 0.8835726\ttest: 0.8109966\tbest: 0.8510638 (2)\ttotal: 733ms\tremaining: 704ms\n",
            "51:\tlearn: 0.8821656\ttest: 0.8109966\tbest: 0.8510638 (2)\ttotal: 740ms\tremaining: 683ms\n",
            "52:\tlearn: 0.8857143\ttest: 0.8122867\tbest: 0.8510638 (2)\ttotal: 747ms\tremaining: 663ms\n",
            "53:\tlearn: 0.8857143\ttest: 0.8122867\tbest: 0.8510638 (2)\ttotal: 768ms\tremaining: 654ms\n",
            "54:\tlearn: 0.8888889\ttest: 0.8122867\tbest: 0.8510638 (2)\ttotal: 785ms\tremaining: 642ms\n",
            "55:\tlearn: 0.8920635\ttest: 0.8041237\tbest: 0.8510638 (2)\ttotal: 799ms\tremaining: 628ms\n",
            "56:\tlearn: 0.8924051\ttest: 0.8041237\tbest: 0.8510638 (2)\ttotal: 814ms\tremaining: 614ms\n",
            "57:\tlearn: 0.8984127\ttest: 0.8054608\tbest: 0.8510638 (2)\ttotal: 833ms\tremaining: 604ms\n",
            "58:\tlearn: 0.8980892\ttest: 0.8122867\tbest: 0.8510638 (2)\ttotal: 849ms\tremaining: 590ms\n",
            "59:\tlearn: 0.8963317\ttest: 0.8122867\tbest: 0.8510638 (2)\ttotal: 863ms\tremaining: 575ms\n",
            "60:\tlearn: 0.8980892\ttest: 0.8082192\tbest: 0.8510638 (2)\ttotal: 882ms\tremaining: 564ms\n",
            "61:\tlearn: 0.8966614\ttest: 0.8095238\tbest: 0.8510638 (2)\ttotal: 897ms\tremaining: 550ms\n",
            "62:\tlearn: 0.8984127\ttest: 0.8178694\tbest: 0.8510638 (2)\ttotal: 915ms\tremaining: 537ms\n",
            "63:\tlearn: 0.8998410\ttest: 0.8095238\tbest: 0.8510638 (2)\ttotal: 929ms\tremaining: 523ms\n",
            "64:\tlearn: 0.9012739\ttest: 0.8122867\tbest: 0.8510638 (2)\ttotal: 943ms\tremaining: 508ms\n",
            "65:\tlearn: 0.9030207\ttest: 0.8178694\tbest: 0.8510638 (2)\ttotal: 957ms\tremaining: 493ms\n",
            "66:\tlearn: 0.9050633\ttest: 0.8191126\tbest: 0.8510638 (2)\ttotal: 976ms\tremaining: 481ms\n",
            "67:\tlearn: 0.9079365\ttest: 0.8191126\tbest: 0.8510638 (2)\ttotal: 991ms\tremaining: 466ms\n",
            "68:\tlearn: 0.9093800\ttest: 0.8150685\tbest: 0.8510638 (2)\ttotal: 1s\tremaining: 451ms\n",
            "69:\tlearn: 0.9108280\ttest: 0.8163265\tbest: 0.8510638 (2)\ttotal: 1.01s\tremaining: 435ms\n",
            "70:\tlearn: 0.9122807\ttest: 0.8163265\tbest: 0.8510638 (2)\ttotal: 1.03s\tremaining: 420ms\n",
            "71:\tlearn: 0.9122807\ttest: 0.8109966\tbest: 0.8510638 (2)\ttotal: 1.04s\tremaining: 406ms\n",
            "72:\tlearn: 0.9137380\ttest: 0.8082192\tbest: 0.8510638 (2)\ttotal: 1.06s\tremaining: 392ms\n",
            "73:\tlearn: 0.9122807\ttest: 0.8122867\tbest: 0.8510638 (2)\ttotal: 1.07s\tremaining: 378ms\n",
            "74:\tlearn: 0.9122807\ttest: 0.8109966\tbest: 0.8510638 (2)\ttotal: 1.11s\tremaining: 370ms\n",
            "75:\tlearn: 0.9108280\ttest: 0.8178694\tbest: 0.8510638 (2)\ttotal: 1.12s\tremaining: 355ms\n",
            "76:\tlearn: 0.9137380\ttest: 0.8082192\tbest: 0.8510638 (2)\ttotal: 1.14s\tremaining: 340ms\n",
            "77:\tlearn: 0.9137380\ttest: 0.8041237\tbest: 0.8510638 (2)\ttotal: 1.15s\tremaining: 325ms\n",
            "78:\tlearn: 0.9166667\ttest: 0.8082192\tbest: 0.8510638 (2)\ttotal: 1.17s\tremaining: 310ms\n",
            "79:\tlearn: 0.9149278\ttest: 0.8068966\tbest: 0.8510638 (2)\ttotal: 1.19s\tremaining: 296ms\n",
            "80:\tlearn: 0.9149278\ttest: 0.8068966\tbest: 0.8510638 (2)\ttotal: 1.21s\tremaining: 285ms\n",
            "81:\tlearn: 0.9134615\ttest: 0.8109966\tbest: 0.8510638 (2)\ttotal: 1.23s\tremaining: 269ms\n",
            "82:\tlearn: 0.9149278\ttest: 0.8068966\tbest: 0.8510638 (2)\ttotal: 1.25s\tremaining: 257ms\n",
            "83:\tlearn: 0.9149278\ttest: 0.8068966\tbest: 0.8510638 (2)\ttotal: 1.26s\tremaining: 241ms\n",
            "84:\tlearn: 0.9166667\ttest: 0.8096886\tbest: 0.8510638 (2)\ttotal: 1.29s\tremaining: 228ms\n",
            "85:\tlearn: 0.9166667\ttest: 0.8041237\tbest: 0.8510638 (2)\ttotal: 1.31s\tremaining: 214ms\n",
            "86:\tlearn: 0.9152000\ttest: 0.8068966\tbest: 0.8510638 (2)\ttotal: 1.33s\tremaining: 199ms\n",
            "87:\tlearn: 0.9213483\ttest: 0.8041237\tbest: 0.8510638 (2)\ttotal: 1.35s\tremaining: 184ms\n",
            "88:\tlearn: 0.9228296\ttest: 0.8082192\tbest: 0.8510638 (2)\ttotal: 1.36s\tremaining: 168ms\n",
            "89:\tlearn: 0.9228296\ttest: 0.8054608\tbest: 0.8510638 (2)\ttotal: 1.38s\tremaining: 153ms\n",
            "90:\tlearn: 0.9210950\ttest: 0.8122867\tbest: 0.8510638 (2)\ttotal: 1.39s\tremaining: 137ms\n",
            "91:\tlearn: 0.9210950\ttest: 0.8095238\tbest: 0.8510638 (2)\ttotal: 1.41s\tremaining: 122ms\n",
            "92:\tlearn: 0.9196141\ttest: 0.8122867\tbest: 0.8510638 (2)\ttotal: 1.42s\tremaining: 107ms\n",
            "93:\tlearn: 0.9196141\ttest: 0.8150685\tbest: 0.8510638 (2)\ttotal: 1.43s\tremaining: 91.5ms\n",
            "94:\tlearn: 0.9228296\ttest: 0.8122867\tbest: 0.8510638 (2)\ttotal: 1.45s\tremaining: 76.4ms\n",
            "95:\tlearn: 0.9228296\ttest: 0.8122867\tbest: 0.8510638 (2)\ttotal: 1.47s\tremaining: 61.1ms\n",
            "96:\tlearn: 0.9228296\ttest: 0.8122867\tbest: 0.8510638 (2)\ttotal: 1.48s\tremaining: 45.8ms\n",
            "97:\tlearn: 0.9243156\ttest: 0.8178694\tbest: 0.8510638 (2)\ttotal: 1.5s\tremaining: 30.5ms\n",
            "98:\tlearn: 0.9243156\ttest: 0.8178694\tbest: 0.8510638 (2)\ttotal: 1.52s\tremaining: 15.3ms\n",
            "99:\tlearn: 0.9258065\ttest: 0.8150685\tbest: 0.8510638 (2)\ttotal: 1.53s\tremaining: 0us\n",
            "bestTest = 0.8510638298\n",
            "bestIteration = 2\n",
            "Shrink model to first 3 iterations.\n"
          ]
        },
        {
          "output_type": "execute_result",
          "data": {
            "text/plain": [
              "<catboost.core.CatBoostClassifier at 0x7f9f7c260610>"
            ]
          },
          "metadata": {},
          "execution_count": 43
        }
      ]
    },
    {
      "cell_type": "code",
      "metadata": {
        "id": "X550kU8D558B"
      },
      "source": [
        "y_pred = model_cb.predict(X_test)"
      ],
      "execution_count": 44,
      "outputs": []
    },
    {
      "cell_type": "code",
      "metadata": {
        "id": "pRPR6rsH__H_",
        "outputId": "4dc6f1b9-f3ad-4a85-9e02-11343681994c",
        "colab": {
          "base_uri": "https://localhost:8080/"
        }
      },
      "source": [
        "f1_score(y_test, y_pred)"
      ],
      "execution_count": 45,
      "outputs": [
        {
          "output_type": "execute_result",
          "data": {
            "text/plain": [
              "0.851063829787234"
            ]
          },
          "metadata": {},
          "execution_count": 45
        }
      ]
    },
    {
      "cell_type": "code",
      "metadata": {
        "id": "Cro3MSvZADJ2",
        "outputId": "fc9bfe7e-7530-4fe1-8cb8-be07b3cd682d",
        "colab": {
          "base_uri": "https://localhost:8080/"
        }
      },
      "source": [
        " accuracy_score(y_test, y_pred)"
      ],
      "execution_count": 47,
      "outputs": [
        {
          "output_type": "execute_result",
          "data": {
            "text/plain": [
              "0.7931034482758621"
            ]
          },
          "metadata": {},
          "execution_count": 47
        }
      ]
    }
  ]
}